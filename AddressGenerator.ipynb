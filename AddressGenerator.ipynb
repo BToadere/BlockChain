{
 "cells": [
  {
   "cell_type": "code",
   "execution_count": 118,
   "id": "33d986ce",
   "metadata": {},
   "outputs": [
    {
     "name": "stdout",
     "output_type": "stream",
     "text": [
      "CPU times: total: 0 ns\n",
      "Wall time: 0 ns\n"
     ]
    }
   ],
   "source": [
    "%%time\n",
    "import random\n",
    "import time\n",
    "import multiprocessing\n",
    "from secrets import token_bytes\n",
    "from coincurve import PublicKey\n",
    "from Crypto.Hash import keccak\n",
    "\n",
    "\n",
    "def WalletRandGen(value):\n",
    "    seed = value.to_bytes(32, 'big')\n",
    "    private_key = keccak.new(data = seed, digest_bits=256).digest()\n",
    "\n",
    "    # private_key_bytes = str.encode(private_key)\n",
    "\n",
    "    public_key = PublicKey.from_valid_secret(private_key).format(compressed=False)[1:]\n",
    "    addr = keccak.new(data = public_key, digest_bits=256).digest()[-20:]\n",
    "    \n",
    "    addr_format = '0x' + addr.hex()\n",
    "#     print(1, '. private_key:', private_key.hex())\n",
    "#     print('           add: 0x' + addr.hex())\n",
    "    \n",
    "    return (addr_format, private_key.hex())\n",
    "\n",
    "\n",
    "def Wallet_Search(raw_begin, raw_end):\n",
    "\n",
    "    seed = random.randrange(2**256)                                 \n",
    "    address, priv_key = WalletRandGen(seed)\n",
    "    begin = raw_begin.lower()\n",
    "    end = raw_end.lower()\n",
    "\n",
    "    count = 0\n",
    "    maxi = 1000\n",
    "\n",
    "    while not (begin == address[:len(begin)] and end == address[-len(end):]):\n",
    "        privkey_mod = int(priv_key, 16) + 1\n",
    "#         print('mod: ', privkey_mod)\n",
    "\n",
    "        privkey_byte = privkey_mod.to_bytes(32,'big')\n",
    "#         print('byte: ', privkey_byte)\n",
    "\n",
    "        priv_key = hex(privkey_mod)\n",
    "#         print('hex: ', priv_key)\n",
    "\n",
    "        pub_key = PublicKey.from_valid_secret(privkey_byte).format(compressed=False)[1:]\n",
    "\n",
    "        address = '0x' + keccak.new(data = pub_key, digest_bits=256).digest()[-20:].hex()\n",
    "#         print ('add: ', address)\n",
    "        priv_key = priv_key[2:]\n",
    "\n",
    "#         if Web3.isAddress(add):\n",
    "#             print('Address ', count, ' is good')\n",
    "#         print('Searching for addresses')\n",
    "        count += 1\n",
    "\n",
    "        if(count > maxi):\n",
    "            print('Serached in ', maxi, 'addresses')\n",
    "            break\n",
    "\n",
    "        \n",
    "    return address, priv_key\n",
    "\n",
    "\n"
   ]
  },
  {
   "cell_type": "code",
   "execution_count": 115,
   "id": "daefa904",
   "metadata": {},
   "outputs": [
    {
     "name": "stdout",
     "output_type": "stream",
     "text": [
      "Serached in  1000 addresses\n",
      "Address:       0x74b434acd01a836c0054f3091356de0c8af58db0\n",
      "Private Key:   2c5bbabc42983dc462f99456b1e007866bceb792b7db88c9d2d207e720a35a29\n",
      "CPU times: total: 78.1 ms\n",
      "Wall time: 61.1 ms\n"
     ]
    }
   ],
   "source": [
    "%%time\n",
    "\n",
    "begin = '0xA905'\n",
    "end = '706'#8Cb'\n",
    "\n",
    "adresa, parola = Wallet_Search(begin, end)\n",
    "\n",
    "print('Address:      ', adresa)\n",
    "print('Private Key:  ', parola)"
   ]
  },
  {
   "cell_type": "code",
   "execution_count": 116,
   "id": "eb36dfcc",
   "metadata": {},
   "outputs": [
    {
     "data": {
      "text/plain": [
       "1099511627776"
      ]
     },
     "execution_count": 116,
     "metadata": {},
     "output_type": "execute_result"
    }
   ],
   "source": [
    "16**10"
   ]
  },
  {
   "cell_type": "code",
   "execution_count": 119,
   "id": "ebc8104f",
   "metadata": {},
   "outputs": [
    {
     "name": "stdout",
     "output_type": "stream",
     "text": [
      "Number of cpu :  16\n"
     ]
    }
   ],
   "source": [
    "print(\"Number of cpu : \", multiprocessing.cpu_count())"
   ]
  },
  {
   "cell_type": "code",
   "execution_count": 126,
   "id": "754e072a",
   "metadata": {},
   "outputs": [],
   "source": [
    "from multiprocessing import Process\n",
    "\n",
    "def print_func(continent='Asia'):\n",
    "    print('The name of continent is : ', continent)\n",
    "\n",
    "if __name__ == \"__main__\":  # confirms that the code is under main function\n",
    "    names = ['America', 'Europe', 'Africa']\n",
    "    procs = []\n",
    "    proc = Process(target=print_func)  # instantiating without any argument\n",
    "    procs.append(proc)\n",
    "    proc.start()\n",
    "\n",
    "    # instantiating process with arguments\n",
    "    for name in names:\n",
    "        # print(name)\n",
    "        proc = Process(target=print_func, args=(name))\n",
    "        procs.append(proc)\n",
    "        proc.start()\n",
    "\n",
    "    # complete the processes\n",
    "    for proc in procs:\n",
    "        proc.join()"
   ]
  },
  {
   "cell_type": "code",
   "execution_count": 127,
   "id": "2cb33207",
   "metadata": {},
   "outputs": [
    {
     "name": "stdout",
     "output_type": "stream",
     "text": [
      "The name of continent is :  Asia\n"
     ]
    }
   ],
   "source": [
    "print_func(continent='Asia')"
   ]
  },
  {
   "cell_type": "code",
   "execution_count": 128,
   "id": "0c51dc75",
   "metadata": {},
   "outputs": [
    {
     "name": "stdout",
     "output_type": "stream",
     "text": [
      "pushing items to queue:\n",
      "item no:  1   red\n",
      "item no:  2   green\n",
      "item no:  3   blue\n",
      "item no:  4   black\n",
      "\n",
      "popping items from queue:\n",
      "item no:  0   red\n",
      "item no:  1   green\n",
      "item no:  2   blue\n",
      "item no:  3   black\n",
      "CPU times: total: 0 ns\n",
      "Wall time: 3.99 ms\n"
     ]
    }
   ],
   "source": [
    "%%time\n",
    "from multiprocessing import Queue\n",
    "\n",
    "colors = ['red', 'green', 'blue', 'black']\n",
    "cnt = 1\n",
    "# instantiating a queue object\n",
    "queue = Queue()\n",
    "print('pushing items to queue:')\n",
    "for color in colors:\n",
    "    print('item no: ', cnt, ' ', color)\n",
    "    queue.put(color)\n",
    "    cnt += 1\n",
    "\n",
    "print('\\npopping items from queue:')\n",
    "cnt = 0\n",
    "while not queue.empty():\n",
    "    print('item no: ', cnt, ' ', queue.get())\n",
    "    cnt += 1\n",
    "    \n",
    "    \n",
    "    \n",
    "    \n",
    "    \n",
    "    \n",
    "    \n",
    "    \n",
    "    \n",
    "    \n",
    "    \n",
    "    \n",
    "def Wallet_Search(raw_begin, raw_end):\n",
    "\n",
    "    seed = random.randrange(2**256)                                 \n",
    "    address, priv_key = WalletRandGen(seed)\n",
    "    begin = raw_begin.lower()\n",
    "    end = raw_end.lower()\n",
    "\n",
    "    count = 0\n",
    "    maxi = 1000\n",
    "\n",
    "    while not (begin == address[:len(begin)] and end == address[-len(end):]):\n",
    "        privkey_mod = int(priv_key, 16) + 1\n",
    "#         print('mod: ', privkey_mod)\n",
    "\n",
    "        privkey_byte = privkey_mod.to_bytes(32,'big')\n",
    "#         print('byte: ', privkey_byte)\n",
    "\n",
    "        priv_key = hex(privkey_mod)\n",
    "#         print('hex: ', priv_key)\n",
    "\n",
    "        pub_key = PublicKey.from_valid_secret(privkey_byte).format(compressed=False)[1:]\n",
    "\n",
    "        address = '0x' + keccak.new(data = pub_key, digest_bits=256).digest()[-20:].hex()\n",
    "#         print ('add: ', address)\n",
    "        priv_key = priv_key[2:]\n",
    "\n",
    "#         if Web3.isAddress(add):\n",
    "#             print('Address ', count, ' is good')\n",
    "#         print('Searching for addresses')\n",
    "        count += 1\n",
    "\n",
    "        if(count > maxi):\n",
    "            print('Serached in ', maxi, 'addresses')\n",
    "            break\n",
    "\n",
    "        \n",
    "    return address, priv_key"
   ]
  },
  {
   "cell_type": "code",
   "execution_count": 15,
   "id": "8b62df31",
   "metadata": {},
   "outputs": [
    {
     "name": "stdout",
     "output_type": "stream",
     "text": [
      "Addresses tried ... (just showing first six characters of address\n"
     ]
    },
    {
     "ename": "NameError",
     "evalue": "name 'fast_multiply' is not defined",
     "output_type": "error",
     "traceback": [
      "\u001b[1;31m---------------------------------------------------------------------------\u001b[0m",
      "\u001b[1;31mNameError\u001b[0m                                 Traceback (most recent call last)",
      "Input \u001b[1;32mIn [15]\u001b[0m, in \u001b[0;36m<cell line: 19>\u001b[1;34m()\u001b[0m\n\u001b[0;32m     16\u001b[0m             \u001b[38;5;28;01mbreak\u001b[39;00m\n\u001b[0;32m     17\u001b[0m     \u001b[38;5;28;01mreturn\u001b[39;00m address, privkey\n\u001b[1;32m---> 19\u001b[0m \u001b[43mget_key\u001b[49m\u001b[43m(\u001b[49m\u001b[43mprivkey\u001b[49m\u001b[43m,\u001b[49m\u001b[38;5;124;43m\"\u001b[39;49m\u001b[38;5;124;43maa\u001b[39;49m\u001b[38;5;124;43m\"\u001b[39;49m\u001b[43m)\u001b[49m\n",
      "Input \u001b[1;32mIn [15]\u001b[0m, in \u001b[0;36mget_key\u001b[1;34m(privkey, search_for)\u001b[0m\n\u001b[0;32m      8\u001b[0m \u001b[38;5;28;01mwhile\u001b[39;00m \u001b[38;5;129;01mnot\u001b[39;00m search_for\u001b[38;5;241m.\u001b[39mlower() \u001b[38;5;129;01min\u001b[39;00m address\u001b[38;5;241m.\u001b[39mlower():\n\u001b[0;32m      9\u001b[0m     privkey \u001b[38;5;241m+\u001b[39m\u001b[38;5;241m=\u001b[39m \u001b[38;5;241m1\u001b[39m\n\u001b[1;32m---> 10\u001b[0m     pubkey_point\u001b[38;5;241m=\u001b[39m\u001b[43mfast_multiply\u001b[49m(G, privkey)\n\u001b[0;32m     11\u001b[0m     address \u001b[38;5;241m=\u001b[39m pubkey_to_address(pubkey_point)\n\u001b[0;32m     12\u001b[0m     \u001b[38;5;28mprint\u001b[39m (address[:\u001b[38;5;241m6\u001b[39m])\n",
      "\u001b[1;31mNameError\u001b[0m: name 'fast_multiply' is not defined"
     ]
    }
   ],
   "source": [
    "import random\n",
    "\n",
    "privkey = random.randrange(2**256)\n",
    "def get_key(privkey,search_for):\n",
    "    count = 0\n",
    "    address = ''\n",
    "    print (\"Addresses tried ... (just showing first six characters of address\")\n",
    "    while not search_for.lower() in address.lower():\n",
    "        privkey += 1\n",
    "        pubkey_point=fast_multiply(G, privkey)\n",
    "        address = pubkey_to_address(pubkey_point)\n",
    "        print (address[:6])\n",
    "        count += 1\n",
    "        \n",
    "        if(count>99):\n",
    "            print(mecansaon )\n",
    "            break\n",
    "    return address, privkey\n",
    "\n",
    "get_key(privkey,\"aa\")"
   ]
  }
 ],
 "metadata": {
  "kernelspec": {
   "display_name": "Python 3 (ipykernel)",
   "language": "python",
   "name": "python3"
  },
  "language_info": {
   "codemirror_mode": {
    "name": "ipython",
    "version": 3
   },
   "file_extension": ".py",
   "mimetype": "text/x-python",
   "name": "python",
   "nbconvert_exporter": "python",
   "pygments_lexer": "ipython3",
   "version": "3.9.12"
  }
 },
 "nbformat": 4,
 "nbformat_minor": 5
}
